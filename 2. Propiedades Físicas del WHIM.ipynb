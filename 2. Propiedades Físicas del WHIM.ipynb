{
 "cells": [
  {
   "cell_type": "markdown",
   "metadata": {},
   "source": [
    "# 2.1 Condiciones de ionización del WHIM\n",
    "\n",
    "Las ocurencia y las características de las líneas de absorción del WHIM en la banda de rayos-x y UV-lejano están determinadas en gran medida por las condiciones de ionización en el gas.\n",
    "\n",
    "### Propiedades de ionización del WHIM\n",
    "\n",
    "Generalmente hay dos procesos que determinan el estado de ionización del gas del WHIM:\n",
    "\n",
    "#### 1. Ionización colisional \n",
    "Esta es causada por las altas temperaturas del gas en estructuras colapsadas \n",
    "\n",
    "#### 2. Fotoionización \n",
    "Causada por el fondo ultravioleta cósmico \n",
    "\n",
    "## 2.1.1 Hidrógeno \n",
    "\n",
    "Por mucho, la mayodría de la masa del WHIM está en la forma de hidrógeno ionizado, H$_\\text{II}$, por lo tanto, entender los procesos que causan la ionización del hidrógeno es escencial para la interpretación de las líneas de absorción del WHIM y para una estimación confiable del contendio de bariones en el WHIM. \n",
    "\n",
    "El potencial de ionización del hidrógeno neutro, H$_\\text{I}$, es 13.6 eV y por ello, tanto la ionización por colisión de partículas como la ionización por fotones de alta energía contribuyen a la ionización del H$_\\text{I}$ en el WHIM.\n",
    "\n",
    "Empecemos con la ionización colisional, que se piensa es la que domina la ionización del hidrógeno a temperaturas mayores que $10^5 K$.\n",
    "\n",
    "El enfoque más simple para caracterizar las condiciones de ionización en plasmas de baja densidad y altas temperaturas es consider equilibrio de ionización colisional (CIE - Colissional Ionization Equilibrium), ya que en CIE la fracción de ionización unicamente depende de la temperatura del gas. \n",
    "\n",
    "Si ignoramos cualquier reacción de intercambio de carga (lo cual está justificado al tratarse de hidrógeno), la fracción de hidrógeno neutro en equilibrio de ionización colisional, $f_{\\text{H}_\\text{I,CIE}}$,  es simplemente el cociente entre el coeficiente de recombinación, $\\alpha_\\text{H}(T)$ y el coeficiente de ionización colisional $\\beta_\\text{H}(T)$:\n",
    "\n",
    "## $$f_{\\text{H}_\\text{I,CIE}}=\\frac{\\alpha_\\text{H}(T)}{\\beta_\\text{H}(T)}$$\n",
    "\n",
    "En el gas con temperaturas por arriba de $\\sim1.5\\times10^4 \\text{ K}$ las colisiones por electrónes térmicos ionizan eficazmente el hidrógenos a un grado mayor, y ya en $T\\sim3\\times10^4 \\text{ K}$ la fracción de hidrógeno neutro en el gas es menor al 1$\\%$.\n",
    "\n",
    "Para el rango de temperaturas característico del WHIM, $T=10^5$ - $10^7$, uno puede aproximar la fracción de ionización en un equilibrio de ionización colisional de la siguiente forma:\n",
    "\n",
    "## $$\\log(f_{\\text{H}_\\text{I,CIE}})\\approx13.9-5.4\\log(T)+0.33\\log(T)^2,$$\n",
    "\n",
    "donde $T$ está en unidades de $\\text{ K}$.\n",
    "\n",
    "O también la podemos escribir como:\n",
    "\n",
    "## $$f_{\\text{H}_\\text{I,CIE}}(T)\\approx10^{13.9-5.4\\log(T)+0.33\\log(T)^2}.$$\n",
    "\n",
    "Entonces, implementándola tenemos la siguiente función:"
   ]
  },
  {
   "cell_type": "code",
   "execution_count": 6,
   "metadata": {},
   "outputs": [
    {
     "data": {
      "text/plain": [
       "f_HI_CIE (generic function with 1 method)"
      ]
     },
     "execution_count": 6,
     "metadata": {},
     "output_type": "execute_result"
    }
   ],
   "source": [
    "f_HI_CIE(T)=10^(13.9-5.4*log10(T)+0.33*log10(T)^2)"
   ]
  },
  {
   "cell_type": "code",
   "execution_count": 15,
   "metadata": {},
   "outputs": [
    {
     "data": {
      "text/plain": [
       "Figure(PyObject <Figure size 640x480 with 1 Axes>)"
      ]
     },
     "metadata": {},
     "output_type": "display_data"
    },
    {
     "data": {
      "text/plain": [
       "PyObject Text(42.597222222222214, 0.5, '$f_{\\\\text{H}_\\\\text{I,CIE}}(T)$')"
      ]
     },
     "execution_count": 15,
     "metadata": {},
     "output_type": "execute_result"
    }
   ],
   "source": [
    "using PyPlot\n",
    "Ts=Float64[]\n",
    "f_HI_CIEs=Float64[]\n",
    "for T in 1e6:1e7\n",
    "    fHI=f_HI_CIE(T)\n",
    "    push!(Ts,T)\n",
    "    push!(f_HI_CIEs,fHI)\n",
    "end \n",
    "plot(Ts,f_HI_CIEs)\n",
    "xlabel(\"asd\")\n",
    "ylabel(L\"f_{\\text{H}_\\text{I,CIE}}(T)\")"
   ]
  },
  {
   "cell_type": "code",
   "execution_count": 19,
   "metadata": {},
   "outputs": [
    {
     "data": {
      "text/plain": [
       "Figure(PyObject <Figure size 640x480 with 1 Axes>)"
      ]
     },
     "metadata": {},
     "output_type": "display_data"
    },
    {
     "data": {
      "text/plain": [
       "PyObject Text(42.597222222222214, 0.5, '$$')"
      ]
     },
     "execution_count": 19,
     "metadata": {},
     "output_type": "execute_result"
    }
   ],
   "source": [
    "plot(Ts,f_HI_CIEs)\n",
    "xlabel(\"asd\")\n",
    "ylabel(L\"\")"
   ]
  },
  {
   "cell_type": "markdown",
   "metadata": {},
   "source": [
    "Así, para gas del WHIM con temperatura $T = 10^6\\text{ K}$, la fracción de hidrógeno neutro en el gas en equilibrbio de ionización colisional es:"
   ]
  },
  {
   "cell_type": "code",
   "execution_count": 5,
   "metadata": {},
   "outputs": [
    {
     "data": {
      "text/plain": [
       "2.3988329190194554e-7"
      ]
     },
     "execution_count": 5,
     "metadata": {},
     "output_type": "execute_result"
    }
   ],
   "source": [
    "f_HI_CIE(1e6)"
   ]
  },
  {
   "cell_type": "markdown",
   "metadata": {},
   "source": [
    "## $f_{\\text{H}_\\text{I,CIE}} \\sim 2.4\\times10^{-7}$."
   ]
  },
  {
   "cell_type": "markdown",
   "metadata": {},
   "source": [
    "Junto a las colisiones de partículas, los fotones con energías mayores a 13.6 eV contribuyen a la ionización del WHIM, en particular en la cola de bajas temperaturas del WHIM, $T\\sim10^5$ K y menores. Estos fotones ionizantes en el espacio intergaláctico son de hecho proporcionados por el fondo ultravioleta metagaláctico, originandose de la fuerte raidación emitida por QSOs Y AGNs."
   ]
  },
  {
   "cell_type": "markdown",
   "metadata": {},
   "source": [
    "## # # # # # # # # # # # # # # # # # # # # # # # # # # # # # # # # # # # # # #  \n",
    "\n",
    "## Gráficas de la tasa de ionización del hidrógeno en función del tiempo\n",
    "\n",
    "Fig. 1 shows the spectral shape of the UV background at z = 0 (left panel) and the redshift-dependence of the hydrogen photoionisation rate from the UV background (right panel) based on the models by Haardt & Madau (1996).\n",
    "\n",
    "https://ned.ipac.caltech.edu/level5/March08/Richter/Richter2.html#Figure%201\n",
    "\n",
    "Figure 1\n",
    "Figure 1. Left panel: Spectral shape of the metagalactic UV background at z = 0 (from Haardt & Madau 1996). Plotted is the flux of photons (Fnu = 4 pi Jnu) against the frequency nu. The hydrogen ionisation edge is indicated with a dashed line. Right panel: Redshift-dependence of the hydrogen photoionisation rate Gamma from the UV background for the range z = 0 to z = 5. Adapted from Haardt & Madau (1996).\n",
    "\n",
    "## # # # # # # # # # # # # # # # # # # # # # # # # # # # # # # # # # # # # # #  "
   ]
  },
  {
   "cell_type": "markdown",
   "metadata": {},
   "source": [
    "Considerando fotoionización, uno generalmente puede escribir la fracción de hidrógeno neutro en el gas como\n",
    "\n",
    "## $$f_{\\text{H}_\\text{I,photo}}=\\frac{n_e\\alpha_\\text{H}(T)}{\\Gamma_{\\text{H}_\\text{I}}},$$\n",
    "\n",
    "donde $\\alpha_\\text{H}(T)$ denota la tasa de recombinación dependiente del tiempo del hidrógeno, $n_e$ es la densidad electrónica, y $\\Gamma_{\\text{H}_\\text{I}}$ es la tasa de fotoionización.\n",
    "\n",
    "$\\Gamma_{\\text{H}_\\text{I}}$ depende del campo de radiación ionizante ambiental J$_\\nu$ (en unidades de erg cm$^{-2}$ s$^{-1}$ Hz$^{-1}$ sr$^{-1}$) en el WHIM proporcionado por el fondo ultravioleta metagaláctico:\n",
    "\n",
    "## $$\\Gamma_{\\text{H}_\\text{I}}=4\\pi\\displaystyle{\\int^{\\infty}_{\\nu_L}}\\frac{\\sigma_\\nu J_\\nu}{h\\nu} d\\nu \\approx 2.5\\times10^{-14} J_{-23} \\; \\text{s}^{-1}$$\n",
    "\n",
    "Aquí, $\\nu_L$ es la frecuencia al límite de Lyman  y $\\sigma_\\nu$ denota la sección transversal de fotoionización del hidrógeno, la cuál escala con $\\nu^{-3}$ para frecuencias mayores que $\\nu_L$. Hemos introducido el factor de escala adimensional $J_{-23}$ que da la intensidad de la radiación ultravioleta metagaláctica al límiete de Lyman  en unidades de 10$^{-23}$ erg cm$^{-2}$ s$^{-1}$ Hz$^{-1}$ sr$^{-1}$.\n",
    "\n",
    "Para z = 0 tenemos $J_{-23}\\sim 1-2$, mientras que para z = 3 el valor de $J_{-23}$ es $\\sim 80$, significativamente mayor.\n",
    "\n",
    "Asumiendo $n_\\text{e}=n_\\text{H}$ e insertando una función adecuada par $\\alpha_\\text{H}(T)$, finalmente podemos escribir el logarimto de la fracción de hidrógeno neutro en un WHIM de plasma puramente fotoionizado de la siguiente forma:\n",
    "\n",
    "## $$\\log(f_{\\text{H}_\\text{I,photo}})\\approx\\log\\left(\\frac{16  \\; n_\\text{H} \\; T_{4}^{-0.76}}{J_{-23}}\\right),$$\n",
    "\n",
    "donde $n_\\text{H}$ es la densidad volumétrica de hidrógeno en unidades de cm$^{-3}$ y $T_{4}$ es la temperatura en unidades de $10^4 \\; \\text{K}$.\n",
    "\n",
    "O también la podemos escribir como:\n",
    "\n",
    "## $$f_{\\text{H}_\\text{I,photo}}\\approx\\frac{16 \\; n_\\text{H} \\; T_{4}^{-0.76}}{J_{-23}}$$\n",
    "\n",
    "Entonces, implementándola tenemos la siguiente función:"
   ]
  },
  {
   "cell_type": "code",
   "execution_count": 11,
   "metadata": {},
   "outputs": [
    {
     "data": {
      "text/plain": [
       "f_HI_photo (generic function with 1 method)"
      ]
     },
     "execution_count": 11,
     "metadata": {},
     "output_type": "execute_result"
    }
   ],
   "source": [
    "f_HI_photo(nH,T,J)=16*nH*(T^(-0.76))/J"
   ]
  },
  {
   "cell_type": "markdown",
   "metadata": {},
   "source": [
    "Entonces, para gas intergaláctico puramente fotoionizado a $z = 0$ con $n = 5 \\times 10^{-6}$ y $T = 5 \\times 10^{6}\\text{ K}$  encontramos que la fracción de hidrógeno neutro es:"
   ]
  },
  {
   "cell_type": "code",
   "execution_count": null,
   "metadata": {},
   "outputs": [],
   "source": [
    "f_HI_photo(nH,T,J)"
   ]
  },
  {
   "cell_type": "code",
   "execution_count": 13,
   "metadata": {},
   "outputs": [
    {
     "data": {
      "text/plain": [
       "1.006650573467339"
      ]
     },
     "execution_count": 13,
     "metadata": {},
     "output_type": "execute_result"
    }
   ],
   "source": [
    "16*5e-6*((1e2)^(-0.76))/2.4e-6"
   ]
  },
  {
   "cell_type": "markdown",
   "metadata": {},
   "source": [
    "## $f_{\\text{H}_\\text{I,photo}} \\sim 2.4\\times10^{-6}$.\n",
    "\n",
    "Esto es 10 veces mayor que para el equilibrio de ionización colisional, indicando que las colisiones dominan la fraccion de ionización del hidrógeno en regiones del WHIM de altas e intermedias temperaturas. Sinembargo, nótese que a temperaturas menores, cerca de $T = 10^5 \\text{ K}$ a la misma densidad tenemos que $f_{\\text{H}_\\text{I,CIE}}\\sim f_{\\text{H}_\\text{I,photo}}$. Dado que este es el régimen de temperaturas del WHIM preferencialmente detectado por características de abosorción ultravioleta (por ejemplo, O$_\\text{VI}$ y Ly$\\alpha$), la fotoionización es importante y debe ser considerada para cuando viene la interpretaación de los absorbedores del WHIM observados en el ultravioleta lejano. \n",
    "\n",
    "De una simulación del WHIM a $z=0$ incluyendo ionización por colision y fotoionización que realizaron Richter et al. (2006b) encontraron la siguiente relación empírica entre la fracción de hidrógeno neutro y la temperatura del gas para un rango de densidades del WHIM entre $n_\\text{H}=10^{-5.3} y 10^{-5.6}$:\n",
    "\n",
    "## $$f_{\\text{H}_\\text{I}}\\approx 10^{0.75-1.25\\log(T)}$$\n",
    "\n",
    "Richter et al. (2006b) muestran una imágen los resultados que obtuvieron de su simulación al graficar la fracción neutra del hidrógeno, $f_{\\text{H}_\\text{I}}=\\log\\left(\\frac{n_{\\text{H}_\\text{I}}}{n_{\\text{H}}}\\right)$ como función de la temperatura del gas. \n",
    "\n",
    "Link a la figura: https://ned.ipac.caltech.edu/level5/March08/Richter/Richter2.html#Figure%201\n",
    "\n",
    "Implementando esta ecuación queda:"
   ]
  },
  {
   "cell_type": "code",
   "execution_count": 21,
   "metadata": {},
   "outputs": [
    {
     "data": {
      "text/plain": [
       "f_HI_Richter2006 (generic function with 1 method)"
      ]
     },
     "execution_count": 21,
     "metadata": {},
     "output_type": "execute_result"
    }
   ],
   "source": [
    "f_HI_Richter2006(T)=10^(0.75-1.25log10(T))"
   ]
  },
  {
   "cell_type": "markdown",
   "metadata": {},
   "source": [
    "Esta ecuación puede servir como regla general para estimar las fracciones de ionización en  absorbedores del WHIM a $z=0$ si la temperatura del gas es conocida (por ejemplo, a partir de las mediciones de los anchos de las líneas).\n",
    "\n",
    "## 2.1.2 Oxígeno y otros metales\n",
    "\n",
    "Mientras que el hidrógeno provee la mayor parte de la masa en el WHIM, las líneas más importantes de diagnóstico para estudiar esta fase del gas son las líneas de metales altamente ionizados como el oxígeno, neón, carbono, magnésio y otros, por lo que el entendimiento de las propiedades de ionización de los iones altamente ionizados observados de estos elementos es tan importante como el de las propiedades de ionización del oxígeno. \n",
    "\n",
    "Así como pare el hidrógeno, tanto la ionización colisional como la fotoionización deben de ser considerados. Con su único electrón, el hidrógeno puede ser neutro o totalemente ionizado, mientras que los elementos pesados, a diferencia, tienen varios electrones disponibles y pueden ser parcialmente ionizados, incluso a temperaturas muy altas. Así, las transiciones electrónicas existen para dichos metales altamente ionizados en el gas caliente-tibio. De importancia particular para observaciones del WHIM están los estados altos de ionización del oxígeno, O$_\\text{VI}$, O$_\\text{VII}$ y O$_\\text{VIII}$, ya que tienen transiciones electrónicas fuertes en longitudes de onda del ultravioleta (O$_\\text{VI}$) y de rayos-x (O$_\\text{VII}$ y O$_\\text{VIII}$), siendo el oxígeno un elemento relativamente abundante.\n",
    "\n",
    "Otro metal importante para observar el gas caliente-tibio en la banda del ultravioleta y rayos-x es el neón (N$_\\text{VII}$, N$_\\text{VIII}$, N$_\\text{IX}$ y N$_\\text{X}$). En equilibrio de ionización colisional, el estado de ionización de estos elementos está determinado únicamente por la gemperatura del gas. Para cada elemento, la fracción de ionización de los estados de ionización (e.g. cuatro veces ionizado vs. cinco veces ionizado) son por lo tanto caracterizados por sus potenciales de ionización respectivos de los niveles de ionización individuales. Por ejemplo, a $T\\sim 1- 3 \\times10^{5} \\text{ K}$ una fracción significante del oxígeno es cinco veces ionizado (O$^{+5}$ o O$_{\\text{VI}}$, para potenciales de ionziación iguales a 138 eV). Los oxígenos seis veces ionizado (O$^{+6}$ o O$_{\\text{VII}}$, para potenciales de ionziación iguales a 739 eV) y siete veces ionizado O$^{+7}$ o O$_{\\text{VIII}}$, para potenciales de ionziación iguales a 871 eV) existen predominantemente a temperaturas más altas en un rango de $3 \\times10^{5-6} \\text{ K}$ y $3 \\times10^{6-7} \\text{ K}$ respectivamente. Iones altos de otros elementos tales como el carbón, nitrógeno, silicón y magnesio son menos importantes para las obervaciones del WHIM ya que sus transiciones obervables trazan temperaturas bajas del gas (e.g. C$_{\\text{IV}}$ y Si$_{\\text{IV}}$) o las abundancias de estos elementos en el medio intergaláctico son demasiado bajas.\n",
    "\n",
    "A este punto es importante notar que la relación discutida entre el estado de ionización (o fracción de ionización) y temperatura del gas asumen explícitamente que el gas está en equilibrio de ionización. Sin embargo, esto puede no ser generalmente el caso en WHIM, ya que las densidades son generalmente muy bajas. Por ejemplo, para condiciones partículas de no equilibrio de ionización las escalas de tiempo para el enfriamiento, recmobinación y equilibrio entre ion y electrón pueden diferir significantemente (ver por ejemplo Bykov et al.2008 - Capítulo 8 de este volumen). En tal caso, la presencia de iones altos tales como  O$_{\\text{VI}}$ y/o mediciones de cocientes de iones altos no sirven como un termostato confiable para el gas del WHIM. Además, los filamentos WHIM probablemente no son isotérmicos ni tienen una densidad de partículas constante. De hecho, como las simulaciónes del WHIM muestran, los absorbedores del WHIM parecen representar una mezcla de gas fotoionizado frío y gas ionizado colisionalmente caliente con un rango de densidad intrínseco sustancial. Por lo tanto las características de absorción de los iones altos emergiendo en dicho medio multifase son generalmente difíciles de interpretar en términos de las condiciones físicas y cantidad de bariones estimada.\n",
    "\n",
    "En vista de las grandes cantidades de energía que se requieren para producir los iones altos de oxígeno y neón en combinación con la forma espectral de la radiación de fondo metagaláctica, la fotoionización de iones metálicos altos en el WHIM es menos importante que para el hidrógeno. Sin embargo, para la fotoionización del O$_{\\text{VI}}$ es importante a bajos corrimientos al rojo en regiones del WHIM con densidades muy bajas o en sistemas localizados cerca a una fuente de radiación local intensa (por ejemplo, en sistemas de O$_{\\text{VI}}$ asociados con QSOs que se encuentran en el fondo). Nótese que a altos corrimientos al rojo, la mayoría del O$_{\\text{VI}}$ interviniendo aparenta estar fotoionizado debido a la intensidad significativamente mayor de la radiación de fondo metagaláctica en el universo temprano.\n",
    "\n",
    "# 2.2. Firmas de absorción del WHIM en la banda del ultravioleta y de rayos-x. \n",
    "\n",
    "## 2.2.1 Absorciones en le ultravioleta\n",
    "\n",
    "Como ya vimos, el O$_{\\text{VI}}$ es por mucho el ion alto más importante para trazar el WHIM a temperaturas de $T\\sim 3 \\times 10^5 \\text{K}$  en el régimen ultravioleta (asumiendo equilibrio de ionización colisional). El oxígeno es un elemento relativamente abundante y las dos transiciones electrónicas similares a las del litio (1s$^2$)$^2$ S$_{1/2}$ $\\rightarrow$ (1s$^2$2p)$^2$ P$_{1/2,3/2}$ del O$_{\\text{VI}}$ localizado en el ultravioleta lejano a 1031.9 Å y 1037.6 Å tienen fuerzas de oscilación grandes ($f_{1031}=0.133,f_{1037}=0.066$).\n",
    "\n",
    "Seguido del  O$_{\\text{VI}}$, también en equilibrbio de ionización colisional, el Ne$_{\\text{VIII}}$ traza el gas del WHIM cerca de $T \\sim 7\\times10^{5} \\text{ K}$ y por lo tanto posiblemente es adecuada para complementar las mediciones del WHIM en un régimen de temperatura mayor. Las dos líneas disponibles de Ne$_{\\text{VIII}}$ están localizadas en el ultravioleta extremo a 770.4 Å ($f_{770}=0.103$) y 780.3 Å a ($f_{780}=0.051$), permitiéndolnos trazar absorbedores del WHIM de alta densidad columnar a corrimientos al rojo $z>0.18$ con satélites de ultravioleta lejano tales como el FUSE. Sin embargo, como la abundancia cósmica de Ne$_{\\text{VIII}}$ es relativamente baja no se espera que sea un trazador particularmente sensible del WHIM con la S/N que alcanzan los espectrógrafos ultravioletas actuales. El mismo argumento se plaica para el ion alto de Mg$_\\text{X}$ que tiene dos transiciones en el ultravioleta extremo a longitudes de onda todavía más bajas ($\\lambda\\lambda$ 609.8, 624.9 Å). Hasta ahora uíncamente el O$_{\\text{VI}}$ y en una ocasión el Ne$_{\\text{VIII}}$ han sido observados en el WHIM a bajos corrimientos al rojo. Hay que tener en cuenta que la característica de absorción del WHIM por O$_{\\text{VI}}$ y  Ne$_{\\text{VIII}}$ en su mayoría son insaturadas y los perfiles de línea se resuelven totalmente o casi totalmente por instrumentos acutales tales como el FUSE y el STIS, que proporcionan resoluciones espectrales de $R=\\lambda / \\Delta\\lambda\\approx20000$ y 45000, respectivamente.\n",
    "\n",
    "Link de tabla que resume algúnos parámetros físicos de los iones altos del O y Ne y sus transiciones observables en las bandas ultravioleta y de rayos-x: https://ned.ipac.caltech.edu/level5/March08/Richter/Richter2.html#Figure%203\n",
    "\n",
    "Se piensa que el nitrógeno cuatro veces ionizado (N$_\\text{V}$; con potencial de ionización de 98 eV) traza predominantemente el gas ionizado colisionalmente a temperaturas cercanas a $T \\sim 2 \\times10^{5} \\text{ K}$, pero su abundancia cósmica es más baja junto con su deficiencia en ambientes de baja metalicidad debido a los efectos de nucleosíntesis (Pettini et al., 2002) hace muy dificil detectarlo en el WHIM. Otra transiciones fuertes de iones altos disponible en el ultravioleta son los del carbono (C$_\\text{IV}$ a$ \\lambda\\lambda 1548.2, 1550.8 $Å) y silicio (Si$_\\text{IV}$ a $\\lambda\\lambda 1393.8, 1402.8 $Å), los cuales se piensa que trazan principalmente el gas fotoionizado a temperaturas  $T < 2 \\times10^{5} \\text{ K}$, pero no el gas caliente tibio calentado por choques a temperaturas más altas.\n",
    "\n",
    "Seguido a las absorciones de iones altos  de elementos pesados, observaciones en el utlravioleta de los años 2004 y 2007 (quizás ya son referencias muy viejas para los estudios recientes de los últimos años, pero como estamos aprendiendo, pues es importante mencionarlas) indican que los filamentos del WHIM pueden ser detectados en las líneas de abosrción de Ly$\\alpha$ del hidrógeno neutro. Aunque la gran mayoría del hidrógeno del WHIM está ionizado (por procesos colisionales y radiación ultravioleta), una pequeñísima fracción (típicamente $f_{\\text{H}_\\text{I}}<10^{-5}$) de hidrógeno neutro se espera que esté presente. Dependiendo de la densidad columnar total del gas de un absorbedor del WHIM y su temperatura, absorciones débiles de H$_\\text{I}$ de Ly$\\alpha$\n",
    "a densidades columnares, N(H$_\\text{I}$), de entre $10^{12.5}$ y $10^{14}$ podrían emerger de los filamentos del WHIM y las nubes podrían ser utilizadas para trazar la componente ionizada del gas. La absorción Ly$\\alpha$ de los filamentos del WHIM es muy ancha debido al ensanchamiento termal de la línea resultante en parámetros Dopplers, b,  muy grandes, $b > 40 \\text{ km s}^{-1}$. Estas líneas son generalmente difíciles de detectar, pues son anchas y poco profundas. Se requiere alta resolución, espectros de QSOs de alta S/N en el ultravioleta lejano con un contiuo de fondo suave para poder buscar de manera satisfactoria las absorciones de Ly$\\alpha$ anchas en el WHIM de bajos $z$. El STIS instalado en el HST es el únicmo instrumento (hasta no sé qué fecha) que ha proporcionado dichos datos, pero debido a las limitaciones instrumentales de observatorios espaciales, el número de espectros de QSOs adecuados para buscar absorciones anchas de Ly$\\alpha$ (BLA - Broad Ly$\\alpha$ Absortion) es muy limitado.\n",
    "\n",
    "Se asume que los valores de $b$ de los BALs se componen de una componente térmica $b_\\text{t}$ y una componente no térmica $b_\\text{no-t}$, en el sentido que $b$ es\n",
    "\n",
    "## $$b=\\sqrt{b_\\text{t}^2+b_\\text{no-t}^2}$$\n",
    "\n",
    "Implementándola queda:"
   ]
  },
  {
   "cell_type": "code",
   "execution_count": 7,
   "metadata": {},
   "outputs": [
    {
     "data": {
      "text/plain": [
       "b (generic function with 1 method)"
      ]
     },
     "execution_count": 7,
     "metadata": {},
     "output_type": "execute_result"
    }
   ],
   "source": [
    "b(b_t,b_not)=sqrt(b_t^2+b_not^2) # en [km / s]"
   ]
  },
  {
   "cell_type": "markdown",
   "metadata": {},
   "source": [
    "La componente no térmica puede incluir procesos como turbulencia macroscópica, componentes de velocidad no resuletad, entre otras. La contribución de $b_\\text{t}$ a $b$ depende de la temperatura del gas de la siguiente forma:\n",
    "\n",
    "## $$b_\\text{t}=\\sqrt{\\frac{2kT}{m}}\\approx0.13\\sqrt{\\frac{T}{A}}\\text{km s}^{-1},$$\n",
    "\n",
    "donde $T$ esta en $\\text{K}$, $k$ es la constante de Boltzman, $m$ es la masa de la partícula y $A$ es el peso atómico en u.\n",
    "\n",
    "Implementando esta ecuación queda:"
   ]
  },
  {
   "cell_type": "code",
   "execution_count": 9,
   "metadata": {},
   "outputs": [
    {
     "data": {
      "text/plain": [
       "b_t (generic function with 1 method)"
      ]
     },
     "execution_count": 9,
     "metadata": {},
     "output_type": "execute_result"
    }
   ],
   "source": [
    "b_t(T,A)=0.13sqrt(T/A) # en [km / s] "
   ]
  },
  {
   "cell_type": "markdown",
   "metadata": {},
   "source": [
    "\n",
    "$k = 1.3806505\\times10^{-16}\\text{ erg K}^{-1}$\n",
    "\n",
    "1 J = 1 kg m$^2$ / s$^2$\n",
    "\n",
    "1 erg = 10$^{-7}$ J\n",
    "\n",
    "$1 \\text{ u} = 1.66054\\times 10^{-27} \\text{ kg}$\n",
    "\n",
    "Masa del hidrógeno $= 1.00784 \\text{ u}$.\n",
    "\n",
    "Masa del oxígeno $=16.9994 \\text{ u}$.\n",
    "\n",
    "\n"
   ]
  },
  {
   "cell_type": "markdown",
   "metadata": {},
   "source": [
    "Para el gas del WHIM calentado por choques con temperaturas mayores o iguales a $10^{5}$ $\\text{K}$ uno espera que para el hidrógeno $b_\\text{t}$ sea:"
   ]
  },
  {
   "cell_type": "code",
   "execution_count": 16,
   "metadata": {},
   "outputs": [
    {
     "data": {
      "text/plain": [
       "41.10960958218894"
      ]
     },
     "execution_count": 16,
     "metadata": {},
     "output_type": "execute_result"
    }
   ],
   "source": [
    "b_t(10^5,1) # km / s"
   ]
  },
  {
   "cell_type": "markdown",
   "metadata": {},
   "source": [
    "### $b_\\text{t}\\geq40 \\text{ km s}^{-1}$."
   ]
  },
  {
   "cell_type": "markdown",
   "metadata": {},
   "source": [
    "El mecanismo de ensanchamiento no térmico se espera que contribuya en cierto grado a los valores totales de $b$ en los absorbedores del WHIM (Richter et al., 2006a), tal que el valor medido del parámetro Doppler del un BAL proporcione únicamente un límite superior para la temperatura del gas.\n",
    "\n",
    "## 2.2.2 Absorciones de rayos-x\n",
    "\n",
    "La fase más ionizada del WHIM producirá y absorberá líneas principalmente en los iones de iones helioides e hidrogenoides de elementos de baja metlicidad Z (C, N, O, Ne), y posiblemente en los iones de la cáscara L del Fe. En la práctica, la mayoría de la atención está enfocada en el oxígeno, porque su alta abundancia relativa (según mis cálculos de 0.0008), y porque las líneas de resonancia más intensas oxígeno helioide e hidrogenoide están en una relativamente limpia banda de longitud de onda. Como referencia, las transiciones de Ly$\\alpha$ para el C$_\\text{VI}$, N$_\\text{VII}$, O$_\\text{VIII}$ y Ne$_\\text{X}$ ocurren a 33.7360, 24.7810, 18.9689, y 12.1339 Å respectivamente (longitudes de onda del doblete $1s - 2p_{1/2,3/2}$ ponderado con la fuerza del oscilador; Johnson & Soff (1985)). Los iones helioides C$_\\text{V}$, N$_\\text{VI}$, O$_\\text{VII}$ Y Ne$_\\text{IX}$ tienen sus transiciones más fuertes, la línea resonante $n=1-2$, a 0.2674, 28.7800, 21.6015, and 13.4473 Å (Drake 1988). Datos sobre los miembros de la serie de orden superior se pueden encontrar en Berner et al. (1996). En lo que respecta a los iones del cáscara L del Fe, la transición más probable que aparezca sería la línea más fuerte en el neonoide Fe$_\\text{XVII}$, $n=2p - 3d\\lambda 15.014$ Å. Además, todas las estapas de ionización más bajas de C, N, O, y Ne (con la excepción del Ne neutro, obviamente) también pueden abosrberse en n=1-2; la más fuerte de estas transiciones sería $1s$ - $2p$ en O$_\\text{VI}$ a $22.019$ Å. De la misma manera, los estados de tránsicion más bajos del Fe podrían, en principio, producir absorciones $n=2 - 3$.\n",
    "\n",
    "Los anchos térmicos de todas estas transiciones serán muy pequeñas, requieriendo poder de resolución del orden de $R \\sim 10000$  (C, N, O, Ne) para poder resolver temperaturas del gas del orden de $10^6 \\text{ K}$; para el Fe, los requerimientos son todavía mayores, por un factor de $\\sim$ 2. Por razones prácticas, estos requerimientos exceden las capacidades actuales de la espectroscopía astrofísica de rayos-x actual por un factor grande. Debido al ensanchamiento Doppler pequeño (ignorando por ahora los campos turbulentos de velocidad), las líneas rápidamente se saturarán. Las líneas resonantes de absorción del oxígeno helioide e hidrogenoide, la saturación se establece en un ancho equivalente del orden de 1 mÅ (Kaastra et al. 2008), o densidades columnares del orden de unos cuantos $10^{14}$ iones por cm$^{-2}$. Por lo tanto, el reto que presenta el medio intergaláctico para la espectroscopía de rayos-x, es detectar anchos equivalentes pequeños cerca de las líneas de saturación que no están resuletas. \n",
    "\n",
    "# 2.3. El contenideo de bariones del WHIM medido por los absorbedores de ultravioleta y rayos-x\n",
    "\n",
    "Un resultado importante de las mediciones de las líneas de absorción del WHIM en el ultravioleta es la denisdad numérica obserbada de los absorbedores del WHIM, usulamente expresada como $\\frac{dN}{dz}$, el número de absorbedores por unidad de corrimiento al rojo. Por ejemplo, de mediciones con el FUSE y el HST/STIS uno encuentra para absorbedores de O$_\\text{VI}$ y absorbedores de líneas anchas de Ly$\\alpha$ a $z\\approx0$ valores de $\\frac{dN_{\\text{O}_\\text{VI}}}{dz} \\approx 20$ y $\\frac{dN_{\\text{BLA}}}{dz} \\approx 30$. Hace una década, las densidades de los absorbedores del WHIM eran únicamente medibles en ultravioleta, pues en la banda de rayos-x tanto el número de líneas de absorción del WHIM como el camino de corrimientos al rojo disponibles para observaciones del WHIM era muy chico para derivar valores estadísticamente significantes de $\\frac{dN_{\\text{O}_\\text{VII}}}{dz}$  y $\\frac{dN_{\\text{O}_\\text{VIII}}}{dz}$.\n",
    "\n",
    "Ahora sí, lo interesante, ¿cómo se traduce la densidad numérica de líneas de iones altos o BLAs en una estimación de la denisdad de masa cosmológica del WHIM, $\\Omega_\\text{b}$(WHIM). Bueno, para obtener tal estimación del contenido de bariones del WHIM de las mediciones de absorciones ultravioleta y de rayos-x uno debe de considerar dos pasos principales. Primero, uno debe transformar las densidades columnares observadas de los iones altos (como lo son por ejemplo el O$_\\text{VI}$, O$_\\text{VII}$ y O$_\\text{VIII}$) en una densidad columnar total modelando las condiciones de ionización en el gas. Segundo, después uno integra sobre la denisdad columnar total de todos los absorbedores del WHIM observados a lo largo del camino de corrimientos al rojo dado y a partir de ello deriva $\\Omega_\\text{b}$(WHIM) para la cosmología escogida. Para ejemplos prácticos, vamos a asumir una cosmología $\\Lambda \\text{CDM}$ con $H_\\text{o}=70 \\text{ km s}^{-1} \\text{ Mpc}^{-1}$, $\\Omega_{\\Lambda}=0.7$, $\\Omega_\\text{m}=0.3$ y $\\Omega_\\text{b}=0.045$. Para el primer paso la incertidumbre recae en la estimación de la fracción de ionización del hidrógeno del WHIM. Para esto, generalmente se supone que el WHIM está en equilibrio de ionización por colision, pero la fotoionización y las condiciones de no equilibrio pueden jugar un papel significante. En el caso de utilizar metales iónicos tales como O$_\\text{VI}$, la abundancia de oxígeno (O/H) desconocida del gas introduce una incertidumbre adicional para la estimación de $\\Omega_\\text{b}$(WHIM). Par el segundo paso, es importante tener una muestra suficientemente grande de las líneas de absorción del WHIM y un camino de corrimiento al rojo total suficiente a lo largo de diferentes direcciones a fin de manejar los errores estadísitocs y el problema de la varianza cosmológica. Estos requerimientos hace 10 años eran cumplidos únicamente para absorbedores de ultravioleta. \n",
    "\n",
    "La denisdad de masa cosmológica $\\Omega_\\text{b}$ de abosrbedores de O$_\\text{VI}$ (y similar para otros iones altos) en términos de la denisdad crítica actual, $\\rho_\\text{c}$, se puede estimar por:\n",
    "\n",
    "$$\\Omega_\\text{b}(\\text{O}_\\text{VI})=\\frac{\\mu \\; m_\\text{H } H_\\text{o}}{\\rho_\\text{c} c }\\displaystyle\\sum_{ij}\\frac{N(\\text{O}_\\text{VI})_{ij}}{f_{\\text{O}_\\text{VI, ij}}(\\text{O/H})_{ij}\\Delta X_{j}}.$$\n",
    "\n",
    "Es esta ecuación $\\mu=1.3$ es el peso molecular medio, $m_\\text{H}=1.673 \\times 10^{-27} \\mathrm{kg}$ es la masa por átomo de hidrógeno, $H_\\text{o}$ es la constante de Hubble local y $\\rho_\\mathrm{c}=\\frac{3H_\\mathrm{o}^2}{8\\pi G}$ es la densidad crítica actual. El índice $i$ denota un sistema de absorición de iones altos individual a lo largo de la línea de visión $j$. Cada sistema de absorción de iones altos $i$ medido está caracterizado por su densidad columnar medida (e.g., N(O$_\\mathrm{VI})_{ij}$), la fracción de ionización del ion medido (e.g., f$_{\\mathrm{O}_\\mathrm{VI},ij}$) y la abundancia local del elemento medido omparada con el hidrógeno (e.g., el cociente oxígeno entre radio, por número). Cada línea de visión $j$ tiene un rango de corrimiento al rojo característico $\\Delta z$ en el que absorcion de iones altos puedes ser detectados. La longitud de camino comovil, $\\Delta X$ disponible para la detección de absorbedores de iones altos del WHIM es: \n",
    "\n",
    "\n",
    "$$\\Delta X_j = (1+z)^2 [\\Omega_\\Lambda+\\Omega_\\mathrm{m}(1+z)^3]^{-0.5}\\Delta z_j $$\n",
    "\n",
    "Para simplificar su implementación definiré a y $A_{ij}$ como sigue:\n",
    "\n",
    "$$a=\\frac{\\mu \\; m_\\text{H } H_\\text{o}}{\\rho_\\text{c} c }$$\n",
    "\n",
    "$$A_{ij}=\\frac{N(\\text{O}_\\text{VI})_{ij}}{f_{\\text{O}_\\text{VI, ij}}(\\text{O/H})_{ij}\\Delta X_{j}}$$\n",
    "\n",
    "Tal que \n",
    "\n",
    "$$\\Omega_\\text{b}(\\text{O}_\\text{VI})=a\\displaystyle\\sum_{ij}A_{ij}$$\n",
    "\n",
    "Implementando esta ecuación queda:"
   ]
  },
  {
   "cell_type": "code",
   "execution_count": 13,
   "metadata": {},
   "outputs": [
    {
     "name": "stdout",
     "output_type": "stream",
     "text": [
      "Ωb(OVI)=[5.277137812839963e-10]"
     ]
    }
   ],
   "source": [
    "# Definimos nuestros parámetros cosmológicos\n",
    "\n",
    "Ω_Λ=0.7\n",
    "Ω_m=0.3\n",
    "z=3\n",
    "\n",
    "μ=1.3\n",
    "ρc=9.47e-27 # densidad crítica actual del universo en [kg/(m^3)]\n",
    "m_H=1.673e-27 # masa por átomo de hidrógeno en [kg]\n",
    "Ho=2.268e-21 # constante de Hubble actual en [km/s/m]\n",
    "c=299792458 # velocidad de la luz en [km/s]\n",
    "\n",
    "\n",
    "a=(μ*m_H*Ho)/(ρc*c) # ... ¿unidades en [m^2]? ... No entiendo\n",
    "\n",
    "\n",
    "# Voy a inventar datos par las siguientes matrices\n",
    "\n",
    "# las filas i son los sistemas absorbedores\n",
    "# las columnas j son las líneas de vision\n",
    "\n",
    "N_O_VI=[1 2 3 ; 4 5 6 ; 7 8 9 ] # es una matriz que contiente los valores de la densidad columnar medida en [m?]\n",
    "f_O_VI=[10 11 12 ; 13 14 15 ; 16 17 18] # es una matriz de la fracción de ionización del O_VI\n",
    "abundance_O=[19 20 21 ; 22 23 24 ; 25 26 27] # Es una matriz con las abundancia de Oxígeno (O/H)\n",
    "Δz=[28 29 30]\n",
    "\n",
    "\n",
    "# Definimos nuestras i y j iniciales y finales\n",
    "\n",
    "j_inicial=1\n",
    "j_final=3\n",
    "\n",
    "i_inicial=1\n",
    "i_final=3\n",
    "\n",
    "# Primero hacemos la matriz de ΔXs\n",
    "ΔX(z,Ω_Λ, Ω_m,j)=((1+z)^2)*([Ω_Λ+Ω_m*(1+z)^3].^(0.5))*(Δz[1,j])\n",
    "ΔXs=Vector{Float64}[]\n",
    "for j in j_inicial:j_final\n",
    "dx=ΔX(3,0.7,0.3,j)\n",
    "push!(ΔXs,dx)\n",
    "end\n",
    "ΔXs=hcat(ΔXs)'\n",
    "\n",
    "# Luego hacemos la matriz Aij\n",
    "Aij(O_VI,i,j)=(N_O_VI[i,j])./(f_O_VI[i,j]*abundance_O[i,j]*ΔXs[1,j])\n",
    "Aijs=Vector{Float64}[]\n",
    "for j in j_inicial:j_final\n",
    "for i in i_inicial:i_final\n",
    "a=Aij(3,i,j)\n",
    "push!(Aijs,vec(a))\n",
    "end    \n",
    "end\n",
    "Aijs=hcat(Aijs)'\n",
    "Aijs=reshape(Aijs, i_final, j_final)\n",
    "\n",
    "# Y así, finalmente\n",
    "Ωb=a*sum(Aijs)\n",
    "\n",
    "# Luego hay que hacer una matriz que contenga todos estos datos\n",
    "# para todos los iones y así poder hacer Ωb función de una variable\n",
    "# llamada \"elemento\".\n",
    "\n",
    "print(\"Ωb(OVI)=$Ωb\")"
   ]
  },
  {
   "cell_type": "markdown",
   "metadata": {},
   "source": [
    "Análogamente podemos escribir $\\Omega_b$ para la denisdad de masa cosmológica de los BLAs:\n",
    "\n",
    "$$\\Omega_\\text{b}(\\mathrm{BLA})=\\frac{\\mu \\; m_\\text{H } H_\\text{o}}{\\rho_\\text{c} c }\\displaystyle\\sum_{ij}\\frac{N(\\text{H}_\\text{I})_{ij}}{f_{\\text{H}_\\text{I, ij}}\\Delta X_{j}}.$$\n",
    "\n",
    "Que implementando queda:"
   ]
  },
  {
   "cell_type": "code",
   "execution_count": 15,
   "metadata": {},
   "outputs": [
    {
     "name": "stdout",
     "output_type": "stream",
     "text": [
      "Ωb(HI)=[3.3805360406723026e-7]"
     ]
    }
   ],
   "source": [
    "# Voy a inventar datos par las siguientes matrices\n",
    "\n",
    "# las filas i son los sistemas absorbedores\n",
    "# las columnas j son las líneas de vision\n",
    "\n",
    "N_H_I=[1 2 3 ; 4 5 6 ; 7 8 9 ] # es una matriz que contiente los valores de la densidad columnar medida en [m?]\n",
    "f_H_I=[10 11 12 ; 13 14 15 ; 16 17 18] # es una matriz de la fracción de ionización del O_VI\n",
    "Δz=[28 29 30]\n",
    "\n",
    "\n",
    "# Definimos nuestras i y j iniciales y finales\n",
    "\n",
    "j_inicial=1\n",
    "j_final=3\n",
    "\n",
    "i_inicial=1\n",
    "i_final=3\n",
    "\n",
    "# Primero hacemos la matriz de ΔXs\n",
    "ΔX(z,Ω_Λ, Ω_m,j)=((1+z)^2)*([Ω_Λ+Ω_m*(1+z)^3].^(0.5))*(Δz[1,j])\n",
    "ΔXs=Vector{Float64}[]\n",
    "for j in j_inicial:j_final\n",
    "dx=ΔX(3,0.7,0.3,j)\n",
    "push!(ΔXs,dx)\n",
    "end\n",
    "ΔXs=hcat(ΔXs)'\n",
    "\n",
    "# Luego hacemos la matriz Aij\n",
    "Aij(H_I,i,j)=(N_H_I[i,j])./(f_H_I[i,j]*ΔXs[1,j])\n",
    "Aijs=Vector{Float64}[]\n",
    "for j in j_inicial:j_final\n",
    "for i in i_inicial:i_final\n",
    "a=Aij(3,i,j)\n",
    "push!(Aijs,vec(a))\n",
    "end    \n",
    "end\n",
    "Aijs=hcat(Aijs)'\n",
    "Aijs=reshape(Aijs, i_final, j_final)\n",
    "\n",
    "# Y así, finalmente\n",
    "Ωb=a*sum(Aijs)\n",
    "\n",
    "# Luego hay que hacer una matriz que contenga todos estos datos\n",
    "# para todos los iones y así poder hacer Ωb función de una variable\n",
    "# llamada \"elemento\".\n",
    "\n",
    "print(\"Ωb(HI)=$Ωb\")"
   ]
  },
  {
   "cell_type": "markdown",
   "metadata": {},
   "source": [
    "Como se puede ver facilmente, la ventaja de utilizar BLAs para derivar la densidad de masa del WHIM es que la metalicidad del gas no es importante para la determinación de $\\Omega_\\mathrm{b}$. Sin embargo, la desventaja es que las correcciónes de ionización son muy grandes e inciertas, ya que estas son determinadas indirectamente de los anchos de línea de as BLAs.\n",
    "\n",
    "# $$\\mathrm{END}$$"
   ]
  }
 ],
 "metadata": {
  "kernelspec": {
   "display_name": "Julia 1.4.1",
   "language": "julia",
   "name": "julia-1.4"
  },
  "language_info": {
   "file_extension": ".jl",
   "mimetype": "application/julia",
   "name": "julia",
   "version": "1.4.1"
  }
 },
 "nbformat": 4,
 "nbformat_minor": 4
}
