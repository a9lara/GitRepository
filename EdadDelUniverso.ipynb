{
 "cells": [
  {
   "cell_type": "markdown",
   "metadata": {},
   "source": [
    "$t(z,H_o,\\Omega_r, \\Omega_m, \\Omega_\\Lambda)=\\displaystyle\\frac{1}{H_o}\\int_0^a\\left(\\frac{1}{\\sqrt{\\frac{\\Omega_r}{a^2}+\\frac{\\Omega_m}{a}+(1-\\Omega_m-\\Omega_r-\\Omega_\\Lambda)+a^2\\Omega_\\Lambda}}\\right)da$\n",
    "\n",
    "Para implementarla vamos a definir f(a) como:\n",
    "\n",
    "$f(z, \\Omega_r, \\Omega_m, \\Omega_\\Lambda)=\\sqrt{\\frac{\\Omega_r}{a^2}+\\frac{\\Omega_m}{a}+(1-\\Omega_m-\\Omega_r-\\Omega_\\Lambda)+a^2\\Omega_\\Lambda}$\n",
    "\n",
    "Tal que\n",
    "\n",
    "$t(z,H_o,\\Omega_r, \\Omega_m, \\Omega_\\Lambda)=\\displaystyle\\frac{1}{H_o}\\int_0^a\\left(\\frac{1}{f(z, \\Omega_r, \\Omega_m, \\Omega_\\Lambda)}\\right)da$\n",
    "\n",
    "Donde \n",
    "\n",
    "### $\\frac{1}{\\mathrm{H_o}}=\\frac{978.44 \\ \\mathrm{Gyr}}{x}$\n",
    "\n",
    "Donde x es el valor de la constante de Hubble que escoge el usuario en unidades de km/s/Mpc."
   ]
  },
  {
   "cell_type": "code",
   "execution_count": 35,
   "metadata": {},
   "outputs": [
    {
     "data": {
      "text/plain": [
       "cosmicTime (generic function with 1 method)"
      ]
     },
     "execution_count": 35,
     "metadata": {},
     "output_type": "execute_result"
    }
   ],
   "source": [
    "# Implementamos f(z,Ωr,Ωm,ΩΛ)\n",
    "f(z,Ωr,Ωm,ΩΛ)=sqrt((Ωr/(1/(1+z))^2)+(Ωm/(1/(1+z)))+(1-Ωm-Ωr-ΩΛ)+(ΩΛ*(1/(1+z))^2))\n",
    "\n",
    "# Implementamos t(z,Ho,Ωr,Ωm,ΩΛ)\n",
    "t(z,Ho,Ωr,Ωm,ΩΛ)=(978.44/Ho)*(1/f(z,Ωr,Ωm,ΩΛ))\n",
    "\n",
    "# Hacemos la integral\n",
    "function cosmicTime(z,Ho,Ωr,Ωm,ΩΛ)\n",
    "    \n",
    "    a  = 1/(1+z)\n",
    "    a0 = 0\n",
    "    da = 0.001\n",
    "    t0 = 0\n",
    "    \n",
    "    while a0 <= a\n",
    "        \n",
    "        t0 = t0 + t(z,Ho,Ωr,Ωm,ΩΛ)*da\n",
    "        a0 = a0 + da     \n",
    "        \n",
    "    end\n",
    "    \n",
    "        t0=round(t0,digits=9)\n",
    "        print(\"$t0 Gyrs\")\n",
    "\n",
    "\n",
    "end"
   ]
  },
  {
   "cell_type": "code",
   "execution_count": 38,
   "metadata": {},
   "outputs": [
    {
     "name": "stdout",
     "output_type": "stream",
     "text": [
      "13.589444444 Gyrs"
     ]
    }
   ],
   "source": [
    "# Entradas de la función  cosmicTime(z,Ho,Ωr,Ωm,ΩΛ)\n",
    "cosmicTime(0,72,0,0.3,0.7)"
   ]
  },
  {
   "cell_type": "markdown",
   "metadata": {},
   "source": [
    "## $$\\text{END}$$"
   ]
  }
 ],
 "metadata": {
  "kernelspec": {
   "display_name": "Julia 1.4.1",
   "language": "julia",
   "name": "julia-1.4"
  },
  "language_info": {
   "file_extension": ".jl",
   "mimetype": "application/julia",
   "name": "julia",
   "version": "1.4.1"
  }
 },
 "nbformat": 4,
 "nbformat_minor": 4
}
