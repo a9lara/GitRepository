{
 "cells": [
  {
   "cell_type": "markdown",
   "metadata": {},
   "source": [
    "# $$\\text{Pearson’s correlation coefficient}$$\n",
    "\n",
    "What is Pearson Correlation?\n",
    "Correlation between sets of data is a measure of how well they are related. The most common measure of correlation in stats is the Pearson Correlation. The full name is the Pearson Product Moment Correlation (PPMC). It shows the linear relationship between two sets of data. In simple terms, it answers the question, Can I draw a line graph to represent the data? Two letters are used to represent the Pearson correlation: Greek letter rho (ρ) for a population and the letter “r” for a sample.\n",
    "\n",
    "$$r_{xy}=\\frac{s_{xy}}{s_xs_y}$$\n",
    "\n",
    "$s_{x}$ and $s_{y}$ are the sample standard deviations, and $s_{xy}$ is the sample covariance.\n",
    "\n",
    "The explicit formula is\n",
    "\n",
    "$$r_{xy}=\\frac{n\\Sigma x_iy_i-\\Sigma x_i\\Sigma y_i}{\\sqrt{n\\Sigma x_i^2-(\\Sigma x_i)^2}\\sqrt{n\\Sigma y_i^2-(\\Sigma y_i)^2})}$$\n",
    "\n",
    "# $\\text{Ejemplo:}$"
   ]
  },
  {
   "cell_type": "code",
   "execution_count": 1,
   "metadata": {
    "collapsed": true
   },
   "outputs": [],
   "source": [
    "Edad=[43,21,25,42,57,59]\n",
    "Nivel_de_Glucosa=[99,65,79,75,87,81];"
   ]
  },
  {
   "cell_type": "code",
   "execution_count": 2,
   "metadata": {},
   "outputs": [
    {
     "data": {
      "text/plain": [
       "0.5298089018901744"
      ]
     },
     "execution_count": 2,
     "metadata": {},
     "output_type": "execute_result"
    }
   ],
   "source": [
    "x=Edad\n",
    "y=Nivel_de_Glucosa\n",
    "\n",
    "########################################################\n",
    "\n",
    "n=length(x)\n",
    "XIYI=Float64[]\n",
    "for i in 1:1:n\n",
    "    xiyi=x[i]*y[i]\n",
    "    push!(XIYI,xiyi)\n",
    "end\n",
    "\n",
    "    Σxiyi=sum(XIYI)\n",
    "    \n",
    "    nΣxiyi=n*Σxiyi\n",
    "\n",
    "    ΣxiΣyi=sum(x)*sum(y)\n",
    "\n",
    "    P1=nΣxiyi-ΣxiΣyi\n",
    "\n",
    "########################################################\n",
    "\n",
    "XI²=Float64[]\n",
    "for i in 1:1:n\n",
    "    xi²=x[i].*x[i]\n",
    "    push!(XI²,xi²)\n",
    "end\n",
    "\n",
    "Σxi²=sum(XI²)\n",
    "\n",
    "nΣxi²=n*Σxi²\n",
    "\n",
    "Σxi=sum(x)\n",
    "\n",
    "ΣxiΣxi=Σxi^2\n",
    "\n",
    "P2=sqrt(nΣxi²-ΣxiΣxi)\n",
    "\n",
    "########################################################\n",
    "\n",
    "\n",
    "YI²=Float64[]\n",
    "for i in 1:1:n\n",
    "    yi²=y[i].*y[i]\n",
    "    push!(YI²,yi²)\n",
    "end\n",
    "\n",
    "Σyi²=sum(YI²)\n",
    "\n",
    "nΣyi²=n*Σyi²\n",
    "\n",
    "Σyi=sum(y)\n",
    "\n",
    "ΣyiΣyi=Σyi^2\n",
    "\n",
    "P3=sqrt(nΣyi²-ΣyiΣyi)\n",
    "\n",
    "########################################################\n",
    "\n",
    "rxy=P1/(P2*P3)"
   ]
  },
  {
   "cell_type": "code",
   "execution_count": 3,
   "metadata": {},
   "outputs": [
    {
     "name": "stdout",
     "output_type": "stream",
     "text": [
      "El coeficiente de correlación es 0.5298."
     ]
    }
   ],
   "source": [
    "rxy=round(rxy,4)\n",
    "print(\"El coeficiente de correlación es $rxy.\")"
   ]
  },
  {
   "cell_type": "markdown",
   "metadata": {},
   "source": [
    "# $$\\text{Intervalos de Confianza de  } r_{xy}$$"
   ]
  },
  {
   "cell_type": "code",
   "execution_count": 5,
   "metadata": {},
   "outputs": [
    {
     "name": "stdout",
     "output_type": "stream",
     "text": [
      "rxy_min=0.3948541003238791,rxy_max=0.7864211732076042"
     ]
    }
   ],
   "source": [
    "r=0.629\n",
    "n=40\n",
    "z_crítica=1.96 # --> Lo cuál equivale a 1σ --   intervalo de 68%\n",
    "# --> Lo cuál equivale a 1σ --   intervalo de 95%\n",
    "\n",
    "z=0.5*log((1+r)/(1-r))\n",
    "σz=sqrt(1/(n-3))\n",
    "\n",
    "z_max=z+(σz*z_crítica)\n",
    "z_min=z-(σz*z_crítica)\n",
    "\n",
    "r_max=((exp(2*z_max)-1)/(exp(2*z_max)+1))\n",
    "r_min=((exp(2*z_min)-1)/(exp(2*z_min)+1))\n",
    "\n",
    "print(\"rxy_min=$r_min,rxy_max=$r_max\")"
   ]
  },
  {
   "cell_type": "markdown",
   "metadata": {},
   "source": [
    "## $$\\text{END}$$"
   ]
  },
  {
   "cell_type": "code",
   "execution_count": 6,
   "metadata": {
    "collapsed": true
   },
   "outputs": [],
   "source": [
    "# Buena bibliografía para esto: onlinestatbook"
   ]
  },
  {
   "cell_type": "code",
   "execution_count": 10,
   "metadata": {},
   "outputs": [
    {
     "data": {
      "text/plain": [
       "0.08351606045692339"
      ]
     },
     "execution_count": 10,
     "metadata": {},
     "output_type": "execute_result"
    }
   ],
   "source": [
    "10^(-1.07823)"
   ]
  },
  {
   "cell_type": "code",
   "execution_count": 9,
   "metadata": {},
   "outputs": [
    {
     "data": {
      "text/plain": [
       "0.033919543597565806"
      ]
     },
     "execution_count": 9,
     "metadata": {},
     "output_type": "execute_result"
    }
   ],
   "source": [
    "10^(-1.46955)"
   ]
  },
  {
   "cell_type": "code",
   "execution_count": null,
   "metadata": {
    "collapsed": true
   },
   "outputs": [],
   "source": []
  }
 ],
 "metadata": {
  "kernelspec": {
   "display_name": "Julia 1.4.1",
   "language": "julia",
   "name": "julia-1.4"
  },
  "language_info": {
   "file_extension": ".jl",
   "mimetype": "application/julia",
   "name": "julia",
   "version": "1.4.1"
  }
 },
 "nbformat": 4,
 "nbformat_minor": 2
}
